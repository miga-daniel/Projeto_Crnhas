{
 "cells": [
  {
   "cell_type": "code",
   "execution_count": 2,
   "metadata": {},
   "outputs": [],
   "source": [
    "import pandas as pd\n",
    "import os"
   ]
  },
  {
   "cell_type": "code",
   "execution_count": 3,
   "metadata": {},
   "outputs": [],
   "source": [
    "def gmt_brazil(Dataframe):\n",
    "    \n",
    "    #Separa texto UTC do valor de hora\n",
    "    Dataframe[['Hora', 'UTC']] = Dataframe['Hora UTC'].str.extract(r'(\\d+)\\s+(.*)')\n",
    "\n",
    "    #Formatação dos valores de hora\n",
    "    Dataframe['Hora'] = Dataframe['Hora'].astype('int')\n",
    "    Dataframe['Hora'] = Dataframe['Hora'].apply(lambda x: f\"{x//100}:{x%100:02d}\")\n",
    "    Dataframe['Hora'] = pd.to_datetime(Dataframe['Hora'], format='%H:%M')\n",
    "    \n",
    "    #Converte data e tempo em apenas tempo\n",
    "    Dataframe['Hora'] = Dataframe['Hora'].dt.time\n",
    "    \n",
    "    #Une data e tempo de colunas diferentes\n",
    "    Dataframe['DateTime'] = pd.to_datetime(Dataframe['Data'].astype(str) + ' ' + Dataframe['Hora'].astype(str))\n",
    "    \n",
    "    #Subtrai 3 horas dos valores em UTC\n",
    "    Dataframe['DateTime'] = Dataframe['DateTime'] - pd.Timedelta(hours=3)\n",
    "    \n",
    "    #Substitui os valores da coluna Hora por apenas o tempo GMT\n",
    "    Dataframe['Hora'] = Dataframe['DateTime'].dt.time"
   ]
  },
  {
   "cell_type": "code",
   "execution_count": 6,
   "metadata": {},
   "outputs": [],
   "source": [
    "def empilhar_planilhas(caminho_pasta, Reduce = False):\n",
    "    \n",
    "    # Lista para armazenar os DataFrames de cada planilha\n",
    "    dfs = []\n",
    "\n",
    "    # Percorre todos os arquivos na pasta\n",
    "    for arquivo in os.listdir(caminho_pasta):\n",
    "        if arquivo.endswith('.CSV'):\n",
    "            caminho_arquivo = os.path.join(caminho_pasta, arquivo)\n",
    "\n",
    "            # Leitura da planilha e adição ao DataFrame\n",
    "            df_unico = pd.read_csv(caminho_arquivo,\n",
    "            sep = ';', encoding= 'latin1', header = None, names = range(19))\n",
    "            if Reduce:\n",
    "                df_unico = df_unico.drop(list(range(3, 19)), axis = 1)\n",
    "            df_unico.columns = df_unico.iloc[8]\n",
    "            df_unico['Região'] = df_unico.iloc[0,1]\n",
    "            df_unico['UF'] = df_unico.iloc[1,1]\n",
    "            df_unico['Estação'] = df_unico.iloc[2,1]\n",
    "            df_unico = df_unico.drop([0,1,2,3,4,5,6,7,8], axis = 0)\n",
    "            df_unico.reset_index(drop = True, inplace = True)\n",
    "            \n",
    "            #Converter UTM para GMT-3\n",
    "            gmt_brazil(df_unico)\n",
    "            \n",
    "            #Adicionar df_unico a uma lista de Dataframes\n",
    "            dfs.append(df_unico)\n",
    "            \n",
    "    #Concatenando cada DataFrame da lista de Dataframes\n",
    "    df_final = pd.concat(dfs, ignore_index=True)\n",
    "    \n",
    "    #Excluir colunas com datas e horas UTC\n",
    "    df_final = df_final.drop(['Data','Hora UTC','UTC'],axis = 1)\n",
    "    \n",
    "    #Exportando consolidado csv\n",
    "    df_final.to_csv('df_consolidado.csv', index= False)\n",
    "            "
   ]
  },
  {
   "cell_type": "code",
   "execution_count": 7,
   "metadata": {},
   "outputs": [],
   "source": [
    "#Caminho relativo para o diretório atual\n",
    "##OBS: __file__ não roda em notebooks\n",
    "#dir_tual = os.path.dirname(__file__)\n",
    "#dados_INMET = os.path.join(dir_tual, 'Dados Meorologicos 1S 2024')\n",
    "\n",
    "#Dados_INMET será input do usuário no programa final\n",
    "dados_INMET = r'C:\\Users\\g_lof\\OneDrive\\Pex\\Programação\\Github\\Projeto_Crnhas\\Dados Meorologicos 1S 2024'\n",
    "empilhar_planilhas(dados_INMET,Reduce=True)"
   ]
  }
 ],
 "metadata": {
  "kernelspec": {
   "display_name": "base",
   "language": "python",
   "name": "python3"
  },
  "language_info": {
   "codemirror_mode": {
    "name": "ipython",
    "version": 3
   },
   "file_extension": ".py",
   "mimetype": "text/x-python",
   "name": "python",
   "nbconvert_exporter": "python",
   "pygments_lexer": "ipython3",
   "version": "3.9.7"
  }
 },
 "nbformat": 4,
 "nbformat_minor": 2
}
